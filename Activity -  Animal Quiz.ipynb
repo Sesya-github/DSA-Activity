{
 "cells": [
  {
   "cell_type": "code",
   "execution_count": 1,
   "metadata": {},
   "outputs": [
    {
     "name": "stdout",
     "output_type": "stream",
     "text": [
      "Guess the Animal...\n",
      "~~~~~~~~~~~~~~~~~~~\n",
      "\n",
      "ANIMAL QUIZ\n",
      "-----------\n",
      "Instructions:\n",
      "\tThere are 5 questions in the quiz\n",
      "\tEach one carry 1 score\n",
      "\tYou can take upto 3 attempts for each question\n",
      "\n",
      "\n",
      "Which bear lives at the North Pole? polar bear\n",
      "Correct answer\n",
      "Which is the fastest land animal? Cheetah\n",
      "Correct answer\n",
      "Which is the largest animal? Elephant\n",
      "Sorry, wrong answer. Try again\n",
      "Which is the largest animal? Blue Whale\n",
      "Correct answer\n",
      "Which animal is the tallest in the world? Giraffe\n",
      "Correct answer\n",
      "Which is the largest animal in the land? Elephant\n",
      "Correct answer\n",
      "Your score is:  5\n"
     ]
    }
   ],
   "source": [
    "print('Guess the Animal...\\n~~~~~~~~~~~~~~~~~~~\\n\\nANIMAL QUIZ\\n-----------')\n",
    "print('Instructions:\\n\\tThere are 5 questions in the quiz\\n\\tEach one carry 1 score\\n\\tYou can take upto 3 attempts for each question\\n\\n')\n",
    "def check_ans(qn,ur_ans,cor_ans):\n",
    "    mark=0\n",
    "    for i in range(0,3):\n",
    "        if(ur_ans.lower()==cor_ans.lower()):\n",
    "            print('Correct answer')\n",
    "            mark+=1\n",
    "            break\n",
    "        elif i<2:\n",
    "            print('Sorry, wrong answer. Try again')\n",
    "            ur_ans=str(input(qn))\n",
    "        elif i==2:\n",
    "            print('The correct answer is ',cor_ans)\n",
    "    return mark\n",
    "quiz={'Which bear lives at the North Pole? ':'Polar bear','Which is the fastest land animal? ':'Cheetah','Which is the largest animal? ':'Blue Whale','Which animal is the tallest in the world? ':'Giraffe','Which is the largest animal in the land? ':'Elephant'}\n",
    "score=0\n",
    "for qsn,ans in quiz.items():\n",
    "    answer=str(input(qsn))\n",
    "    score+=check_ans(qsn,answer,ans)\n",
    "print('\\nYour score is: ',score)"
   ]
  }
 ],
 "metadata": {
  "kernelspec": {
   "display_name": "Python 3",
   "language": "python",
   "name": "python3"
  },
  "language_info": {
   "codemirror_mode": {
    "name": "ipython",
    "version": 3
   },
   "file_extension": ".py",
   "mimetype": "text/x-python",
   "name": "python",
   "nbconvert_exporter": "python",
   "pygments_lexer": "ipython3",
   "version": "3.8.5"
  }
 },
 "nbformat": 4,
 "nbformat_minor": 4
}
